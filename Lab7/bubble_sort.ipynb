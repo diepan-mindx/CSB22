{
 "cells": [
  {
   "cell_type": "code",
   "execution_count": 1,
   "metadata": {},
   "outputs": [
    {
     "data": {
      "text/plain": [
       "[18, 32, 75, 16, 37, 22, 78, 19, 1, 42, 10, 94, 60, 62, 63, 84, 50, 97, 45, 89]"
      ]
     },
     "execution_count": 1,
     "metadata": {},
     "output_type": "execute_result"
    }
   ],
   "source": [
    "# tạo danh sách bằng random\n",
    "import random\n",
    "arr = random.sample(range(100), 20)\n",
    "arr"
   ]
  },
  {
   "cell_type": "code",
   "execution_count": null,
   "metadata": {},
   "outputs": [],
   "source": [
    "# thuc thi thuat toan \n",
    "def bubble_sort(arr) -> list:\n",
    "    arr_size = len(arr)\n",
    "    for i in range(arr_size):\n",
    "        for j in range(0, arr_size-i-1):\n",
    "            if arr[j] > arr[j+1]:\n",
    "                # chuyển đổi 2 phần tử nếu phần tử sau nhỏ hơn phần tử trước\n",
    "                arr[j], arr[j+1] = arr[j+1], arr[j]\n",
    "    return arr"
   ]
  },
  {
   "cell_type": "code",
   "execution_count": 3,
   "metadata": {},
   "outputs": [],
   "source": [
    "# tạo thời gian và thực thi thuật toán\n",
    "import time\n",
    "\n",
    "start_time = time.time() # ban đầu đếm\n",
    "result = bubble_sort(arr)# truong hop xau nhat\n",
    "end_time = time.time() # kết thúc đếm"
   ]
  },
  {
   "cell_type": "code",
   "execution_count": 4,
   "metadata": {},
   "outputs": [
    {
     "name": "stdout",
     "output_type": "stream",
     "text": [
      "Result: [1, 10, 16, 18, 19, 22, 32, 37, 42, 45, 50, 60, 62, 63, 75, 78, 84, 89, 94, 97]\n",
      "Time: 5.507469177246094e-05s\n"
     ]
    }
   ],
   "source": [
    "# in kết quả\n",
    "print(f\"Result: {result}\")\n",
    "print(f\"Time: {end_time - start_time}s\")"
   ]
  }
 ],
 "metadata": {
  "kernelspec": {
   "display_name": "Python 3",
   "language": "python",
   "name": "python3"
  },
  "language_info": {
   "codemirror_mode": {
    "name": "ipython",
    "version": 3
   },
   "file_extension": ".py",
   "mimetype": "text/x-python",
   "name": "python",
   "nbconvert_exporter": "python",
   "pygments_lexer": "ipython3",
   "version": "3.13.2"
  }
 },
 "nbformat": 4,
 "nbformat_minor": 2
}

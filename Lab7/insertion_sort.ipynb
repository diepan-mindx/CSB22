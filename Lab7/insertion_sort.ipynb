{
 "cells": [
  {
   "cell_type": "code",
   "execution_count": 1,
   "metadata": {},
   "outputs": [
    {
     "data": {
      "text/plain": [
       "[80, 64, 27, 4, 43, 91, 48, 55, 49, 92, 0, 15, 36, 44, 97, 52, 39, 74, 26, 37]"
      ]
     },
     "execution_count": 1,
     "metadata": {},
     "output_type": "execute_result"
    }
   ],
   "source": [
    "# tạo danh sách bằng random\n",
    "import random\n",
    "arr = random.sample(range(100), 20)\n",
    "arr"
   ]
  },
  {
   "cell_type": "code",
   "execution_count": 2,
   "metadata": {},
   "outputs": [],
   "source": [
    "# thuc thi thuat toan \n",
    "def insertion_sort(arr) -> list:\n",
    "    for i in range(1, len(arr)):\n",
    "        # chon phan tu dau tien trong danh sach chua sap xep\n",
    "        key = arr[i]\n",
    "        # dat bien j de lay index cua nhung phan tu da sap xep\n",
    "        j = i - 1\n",
    "        while j >= 0 and key < arr[j]:\n",
    "            arr[j + 1] = arr[j] # doi cho phan tu ra sau\n",
    "            j -= 1\n",
    "        # đổi chỗ phần tử ra sau nếu không có vị trí thích hợp\n",
    "        arr[j + 1] = key\n",
    "    return arr"
   ]
  },
  {
   "cell_type": "code",
   "execution_count": 3,
   "metadata": {},
   "outputs": [],
   "source": [
    "# tạo thời gian và thực thi thuật toán\n",
    "import time\n",
    "\n",
    "start_time = time.time() # ban đầu đếm\n",
    "result = insertion_sort(arr)# truong hop xau nhat\n",
    "end_time = time.time() # kết thúc đếm"
   ]
  },
  {
   "cell_type": "code",
   "execution_count": 4,
   "metadata": {},
   "outputs": [
    {
     "name": "stdout",
     "output_type": "stream",
     "text": [
      "Result: [0, 4, 15, 26, 27, 36, 37, 39, 43, 44, 48, 49, 52, 55, 64, 74, 80, 91, 92, 97]\n",
      "Time: 0.00010395050048828125s\n"
     ]
    }
   ],
   "source": [
    "# in kết quả\n",
    "print(f\"Result: {result}\")\n",
    "print(f\"Time: {end_time - start_time}s\")"
   ]
  },
  {
   "cell_type": "code",
   "execution_count": 3,
   "metadata": {},
   "outputs": [
    {
     "name": "stdout",
     "output_type": "stream",
     "text": [
      "[12, 2, 3, 57, 0]\n"
     ]
    }
   ],
   "source": [
    "arr1 = [1,2,3,57,0]\n",
    "for index, value in enumerate(arr1):\n",
    "    arr1[0] = 12\n",
    "    \n",
    "print(arr1)"
   ]
  }
 ],
 "metadata": {
  "kernelspec": {
   "display_name": "Python 3",
   "language": "python",
   "name": "python3"
  },
  "language_info": {
   "codemirror_mode": {
    "name": "ipython",
    "version": 3
   },
   "file_extension": ".py",
   "mimetype": "text/x-python",
   "name": "python",
   "nbconvert_exporter": "python",
   "pygments_lexer": "ipython3",
   "version": "3.13.2"
  }
 },
 "nbformat": 4,
 "nbformat_minor": 2
}

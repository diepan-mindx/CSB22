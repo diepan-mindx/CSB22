{
 "cells": [
  {
   "cell_type": "markdown",
   "metadata": {},
   "source": [
    "+ Dãy fabonacci bắt buộc phải có 2 phần tử đầu (1, 1)\n",
    "+ Dãy cộng dồn phần tử n + (n-1) => n + 1"
   ]
  },
  {
   "cell_type": "markdown",
   "metadata": {},
   "source": [
    "## vòng lặp for"
   ]
  },
  {
   "cell_type": "code",
   "execution_count": 8,
   "metadata": {},
   "outputs": [
    {
     "data": {
      "text/plain": [
       "[1, 1, 2, 3, 5]"
      ]
     },
     "execution_count": 8,
     "metadata": {},
     "output_type": "execute_result"
    }
   ],
   "source": [
    "def fabonacci_loop(arr_size):\n",
    "    # kiem tra dieu kien \n",
    "    if arr_size < 2:\n",
    "        print('Array size need >= 2')\n",
    "        return # khong chay them do ham da loi\n",
    "    fabo = [1,1] # day bat buoc voi 2 phan tu co dinh\n",
    "    for i in range(2, arr_size):\n",
    "        prevValue = fabo[i - 2]\n",
    "        curValue = fabo[i - 1]\n",
    "        newValue = prevValue + curValue\n",
    "        fabo.append(newValue) # them phan tu moi vao cuoi day\n",
    "    return fabo\n",
    "fabonacci_loop(5)"
   ]
  },
  {
   "cell_type": "markdown",
   "metadata": {},
   "source": [
    "## đệ quy"
   ]
  },
  {
   "cell_type": "markdown",
   "metadata": {},
   "source": [
    "+ hàm không có giá trị trả về (return)\n",
    "    ```python\n",
    "    def func():\n",
    "        print()\n",
    "    ```   \n",
    "+ hàm có return/ trả về\n",
    "    ```python\n",
    "    def sum(a, b):\n",
    "        return a + b\n",
    "    ```   \n",
    "+ hàm 1 hàng\n",
    "    ```python\n",
    "    sum1line = lambda a, b: a + b\n",
    "    ```"
   ]
  },
  {
   "cell_type": "code",
   "execution_count": null,
   "metadata": {},
   "outputs": [
    {
     "data": {
      "text/plain": [
       "[1, 1, 2, 3, 5]"
      ]
     },
     "execution_count": 16,
     "metadata": {},
     "output_type": "execute_result"
    }
   ],
   "source": [
    "def fibonacci_recursion(fabo_arr, arr_size) -> list:\n",
    "    arr_len = len(fabo_arr)  # Get current array length\n",
    "\n",
    "    if arr_size < 2:\n",
    "        print(\"Array size needs to be >= 2\")\n",
    "        return\n",
    "    elif arr_len >= arr_size:  # Stop when the array reaches the desired size\n",
    "        return fabo_arr\n",
    "    else:\n",
    "        prev_value = fabo_arr[arr_len-1]\n",
    "        cur_value = fabo_arr[arr_len-2]\n",
    "        new_value = prev_value + cur_value\n",
    "        fabo_arr.append(new_value)  # Append new value to the list\n",
    "\n",
    "        # Recursive call to continue filling the array\n",
    "        return fibonacci_recursion(fabo_arr, arr_size)\n",
    "\n",
    "fibonacci_recursion([1, 1], 5)\n"
   ]
  },
  {
   "cell_type": "code",
   "execution_count": 22,
   "metadata": {},
   "outputs": [
    {
     "data": {
      "text/plain": [
       "[1, 2, 5, 6]"
      ]
     },
     "execution_count": 22,
     "metadata": {},
     "output_type": "execute_result"
    }
   ],
   "source": [
    "a = [1,2]\n",
    "a = a + [5,6]\n",
    "a"
   ]
  }
 ],
 "metadata": {
  "kernelspec": {
   "display_name": "Python 3",
   "language": "python",
   "name": "python3"
  },
  "language_info": {
   "codemirror_mode": {
    "name": "ipython",
    "version": 3
   },
   "file_extension": ".py",
   "mimetype": "text/x-python",
   "name": "python",
   "nbconvert_exporter": "python",
   "pygments_lexer": "ipython3",
   "version": "3.13.2"
  }
 },
 "nbformat": 4,
 "nbformat_minor": 2
}
